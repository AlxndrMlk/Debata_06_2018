{
 "cells": [
  {
   "cell_type": "code",
   "execution_count": 1,
   "metadata": {},
   "outputs": [],
   "source": [
    "import pandas as pd\n",
    "import numpy as np"
   ]
  },
  {
   "cell_type": "markdown",
   "metadata": {},
   "source": [
    "# Losowanie uczestników do debaty oksfordzkiej\n",
    "2018-06-05"
   ]
  },
  {
   "cell_type": "code",
   "execution_count": 3,
   "metadata": {},
   "outputs": [],
   "source": [
    "# Wczytaj dane z formularza Google\n",
    "data = pd.read_csv(r'C:\\Users\\Ol\\Documents\\DATA ANALYSIS\\Debata oksfordzka.csv')"
   ]
  },
  {
   "cell_type": "code",
   "execution_count": 5,
   "metadata": {},
   "outputs": [
    {
     "data": {
      "text/plain": [
       "Za tezą          9\n",
       "Przeciw tezie    4\n",
       "Name: Preferowana grupa, dtype: int64"
      ]
     },
     "execution_count": 5,
     "metadata": {},
     "output_type": "execute_result"
    }
   ],
   "source": [
    "# Sprawdź liczność grup\n",
    "data['Preferowana grupa'].value_counts()"
   ]
  },
  {
   "cell_type": "code",
   "execution_count": 7,
   "metadata": {
    "collapsed": true
   },
   "outputs": [
    {
     "data": {
      "text/html": [
       "<div>\n",
       "<style scoped>\n",
       "    .dataframe tbody tr th:only-of-type {\n",
       "        vertical-align: middle;\n",
       "    }\n",
       "\n",
       "    .dataframe tbody tr th {\n",
       "        vertical-align: top;\n",
       "    }\n",
       "\n",
       "    .dataframe thead th {\n",
       "        text-align: right;\n",
       "    }\n",
       "</style>\n",
       "<table border=\"1\" class=\"dataframe\">\n",
       "  <thead>\n",
       "    <tr style=\"text-align: right;\">\n",
       "      <th></th>\n",
       "      <th>Sygnatura czasowa</th>\n",
       "      <th>Imię i nazwisko</th>\n",
       "      <th>Preferowana grupa</th>\n",
       "    </tr>\n",
       "  </thead>\n",
       "  <tbody>\n",
       "    <tr>\n",
       "      <th>3</th>\n",
       "      <td>2018/06/01 10:36:56 PM EET</td>\n",
       "      <td>Katarzyna Czajka</td>\n",
       "      <td>Za tezą</td>\n",
       "    </tr>\n",
       "    <tr>\n",
       "      <th>9</th>\n",
       "      <td>2018/06/03 3:29:39 PM EET</td>\n",
       "      <td>Weronika Lewicka</td>\n",
       "      <td>Za tezą</td>\n",
       "    </tr>\n",
       "  </tbody>\n",
       "</table>\n",
       "</div>"
      ],
      "text/plain": [
       "            Sygnatura czasowa    Imię i nazwisko Preferowana grupa\n",
       "3  2018/06/01 10:36:56 PM EET  Katarzyna Czajka            Za tezą\n",
       "9   2018/06/03 3:29:39 PM EET   Weronika Lewicka           Za tezą"
      ]
     },
     "execution_count": 7,
     "metadata": {},
     "output_type": "execute_result"
    }
   ],
   "source": [
    "# Mamy łącznie 13 zgłoszeń, potrzebujemy wylosować i przenieść do przeciwnej grupy\n",
    "# dwie osoby z grupy \"Za tezą\", żeby uzyskać stosunek liczebności grup 7 / 6 \n",
    "data[data['Preferowana grupa'] == 'Za tezą'].sample(2)"
   ]
  },
  {
   "cell_type": "code",
   "execution_count": 8,
   "metadata": {},
   "outputs": [],
   "source": [
    "data['Wylosowana grupa'] = data['Preferowana grupa']"
   ]
  },
  {
   "cell_type": "code",
   "execution_count": 14,
   "metadata": {},
   "outputs": [],
   "source": [
    "data.iloc[3,3] = 'Przeciw tezie'\n",
    "data.iloc[9,3] = 'Przeciw tezie'"
   ]
  },
  {
   "cell_type": "code",
   "execution_count": 15,
   "metadata": {
    "collapsed": true
   },
   "outputs": [
    {
     "data": {
      "text/html": [
       "<div>\n",
       "<style scoped>\n",
       "    .dataframe tbody tr th:only-of-type {\n",
       "        vertical-align: middle;\n",
       "    }\n",
       "\n",
       "    .dataframe tbody tr th {\n",
       "        vertical-align: top;\n",
       "    }\n",
       "\n",
       "    .dataframe thead th {\n",
       "        text-align: right;\n",
       "    }\n",
       "</style>\n",
       "<table border=\"1\" class=\"dataframe\">\n",
       "  <thead>\n",
       "    <tr style=\"text-align: right;\">\n",
       "      <th></th>\n",
       "      <th>Sygnatura czasowa</th>\n",
       "      <th>Imię i nazwisko</th>\n",
       "      <th>Preferowana grupa</th>\n",
       "      <th>Wylosowana grupa</th>\n",
       "    </tr>\n",
       "  </thead>\n",
       "  <tbody>\n",
       "    <tr>\n",
       "      <th>0</th>\n",
       "      <td>2018/06/01 6:35:06 PM EET</td>\n",
       "      <td>Aleksander Molak</td>\n",
       "      <td>Za tezą</td>\n",
       "      <td>Za tezą</td>\n",
       "    </tr>\n",
       "    <tr>\n",
       "      <th>1</th>\n",
       "      <td>2018/06/01 8:02:49 PM EET</td>\n",
       "      <td>Agnieszka Zdrzalik</td>\n",
       "      <td>Przeciw tezie</td>\n",
       "      <td>Przeciw tezie</td>\n",
       "    </tr>\n",
       "    <tr>\n",
       "      <th>2</th>\n",
       "      <td>2018/06/01 10:10:49 PM EET</td>\n",
       "      <td>Lilyana Smirnova</td>\n",
       "      <td>Za tezą</td>\n",
       "      <td>Za tezą</td>\n",
       "    </tr>\n",
       "    <tr>\n",
       "      <th>3</th>\n",
       "      <td>2018/06/01 10:36:56 PM EET</td>\n",
       "      <td>Katarzyna Czajka</td>\n",
       "      <td>Za tezą</td>\n",
       "      <td>Przeciw tezie</td>\n",
       "    </tr>\n",
       "    <tr>\n",
       "      <th>4</th>\n",
       "      <td>2018/06/02 2:32:28 AM EET</td>\n",
       "      <td>Natalia Mróz</td>\n",
       "      <td>Za tezą</td>\n",
       "      <td>Za tezą</td>\n",
       "    </tr>\n",
       "    <tr>\n",
       "      <th>5</th>\n",
       "      <td>2018/06/02 3:07:41 PM EET</td>\n",
       "      <td>Joanna Mendrycka</td>\n",
       "      <td>Za tezą</td>\n",
       "      <td>Za tezą</td>\n",
       "    </tr>\n",
       "    <tr>\n",
       "      <th>6</th>\n",
       "      <td>2018/06/02 5:35:54 PM EET</td>\n",
       "      <td>Gosia Wyrzykowska</td>\n",
       "      <td>Przeciw tezie</td>\n",
       "      <td>Przeciw tezie</td>\n",
       "    </tr>\n",
       "    <tr>\n",
       "      <th>7</th>\n",
       "      <td>2018/06/03 3:06:10 AM EET</td>\n",
       "      <td>Veronika Rudyk</td>\n",
       "      <td>Za tezą</td>\n",
       "      <td>Za tezą</td>\n",
       "    </tr>\n",
       "    <tr>\n",
       "      <th>8</th>\n",
       "      <td>2018/06/03 3:29:26 PM EET</td>\n",
       "      <td>Natalia Jakubowska</td>\n",
       "      <td>Za tezą</td>\n",
       "      <td>Za tezą</td>\n",
       "    </tr>\n",
       "    <tr>\n",
       "      <th>9</th>\n",
       "      <td>2018/06/03 3:29:39 PM EET</td>\n",
       "      <td>Weronika Lewicka</td>\n",
       "      <td>Za tezą</td>\n",
       "      <td>Przeciw tezie</td>\n",
       "    </tr>\n",
       "    <tr>\n",
       "      <th>10</th>\n",
       "      <td>2018/06/03 8:33:11 PM EET</td>\n",
       "      <td>Emilia Szuchniewicz</td>\n",
       "      <td>Przeciw tezie</td>\n",
       "      <td>Przeciw tezie</td>\n",
       "    </tr>\n",
       "    <tr>\n",
       "      <th>11</th>\n",
       "      <td>2018/06/03 8:33:11 PM EET</td>\n",
       "      <td>Aleksandra Siemieniuk</td>\n",
       "      <td>Przeciw tezie</td>\n",
       "      <td>Przeciw tezie</td>\n",
       "    </tr>\n",
       "    <tr>\n",
       "      <th>12</th>\n",
       "      <td>2018/06/04 11:40:47 AM EET</td>\n",
       "      <td>Michał Kurowski</td>\n",
       "      <td>Za tezą</td>\n",
       "      <td>Za tezą</td>\n",
       "    </tr>\n",
       "  </tbody>\n",
       "</table>\n",
       "</div>"
      ],
      "text/plain": [
       "             Sygnatura czasowa        Imię i nazwisko Preferowana grupa  \\\n",
       "0    2018/06/01 6:35:06 PM EET       Aleksander Molak           Za tezą   \n",
       "1    2018/06/01 8:02:49 PM EET     Agnieszka Zdrzalik     Przeciw tezie   \n",
       "2   2018/06/01 10:10:49 PM EET       Lilyana Smirnova           Za tezą   \n",
       "3   2018/06/01 10:36:56 PM EET      Katarzyna Czajka            Za tezą   \n",
       "4    2018/06/02 2:32:28 AM EET          Natalia Mróz            Za tezą   \n",
       "5    2018/06/02 3:07:41 PM EET       Joanna Mendrycka           Za tezą   \n",
       "6    2018/06/02 5:35:54 PM EET      Gosia Wyrzykowska     Przeciw tezie   \n",
       "7    2018/06/03 3:06:10 AM EET        Veronika Rudyk            Za tezą   \n",
       "8    2018/06/03 3:29:26 PM EET     Natalia Jakubowska           Za tezą   \n",
       "9    2018/06/03 3:29:39 PM EET       Weronika Lewicka           Za tezą   \n",
       "10   2018/06/03 8:33:11 PM EET   Emilia Szuchniewicz      Przeciw tezie   \n",
       "11   2018/06/03 8:33:11 PM EET  Aleksandra Siemieniuk     Przeciw tezie   \n",
       "12  2018/06/04 11:40:47 AM EET        Michał Kurowski           Za tezą   \n",
       "\n",
       "   Wylosowana grupa  \n",
       "0           Za tezą  \n",
       "1     Przeciw tezie  \n",
       "2           Za tezą  \n",
       "3     Przeciw tezie  \n",
       "4           Za tezą  \n",
       "5           Za tezą  \n",
       "6     Przeciw tezie  \n",
       "7           Za tezą  \n",
       "8           Za tezą  \n",
       "9     Przeciw tezie  \n",
       "10    Przeciw tezie  \n",
       "11    Przeciw tezie  \n",
       "12          Za tezą  "
      ]
     },
     "execution_count": 15,
     "metadata": {},
     "output_type": "execute_result"
    }
   ],
   "source": [
    "data"
   ]
  }
 ],
 "metadata": {
  "kernelspec": {
   "display_name": "Python 3",
   "language": "python",
   "name": "python3"
  },
  "language_info": {
   "codemirror_mode": {
    "name": "ipython",
    "version": 3
   },
   "file_extension": ".py",
   "mimetype": "text/x-python",
   "name": "python",
   "nbconvert_exporter": "python",
   "pygments_lexer": "ipython3",
   "version": "3.6.4"
  }
 },
 "nbformat": 4,
 "nbformat_minor": 2
}
