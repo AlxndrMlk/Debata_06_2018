{
 "cells": [
  {
   "cell_type": "code",
   "execution_count": 1,
   "metadata": {},
   "outputs": [],
   "source": [
    "import pandas as pd\n",
    "import numpy as np"
   ]
  },
  {
   "cell_type": "markdown",
   "metadata": {},
   "source": [
    "# Losowanie uczestników do debaty oksfordzkiej\n",
    "2018-06-05"
   ]
  },
  {
   "cell_type": "code",
   "execution_count": 3,
   "metadata": {},
   "outputs": [],
   "source": [
    "# Wczytaj dane z formularza Google\n",
    "data = pd.read_csv(r'C:\\Users\\Ol\\Documents\\DATA ANALYSIS\\Debata oksfordzka.csv')"
   ]
  },
  {
   "cell_type": "code",
   "execution_count": 5,
   "metadata": {},
   "outputs": [
    {
     "data": {
      "text/plain": [
       "Za tezą          9\n",
       "Przeciw tezie    4\n",
       "Name: Preferowana grupa, dtype: int64"
      ]
     },
     "execution_count": 5,
     "metadata": {},
     "output_type": "execute_result"
    }
   ],
   "source": [
    "# Sprawdź liczność grup\n",
    "data['Preferowana grupa'].value_counts()"
   ]
  },
  {
   "cell_type": "code",
   "execution_count": 16,
   "metadata": {},
   "outputs": [],
   "source": [
    "# Mamy łącznie 13 zgłoszeń, potrzebujemy wylosować i przenieść do przeciwnej grupy\n",
    "# dwie osoby z grupy \"Za tezą\", żeby uzyskać stosunek liczebności grup 7 / 6 \n",
    "data[data['Preferowana grupa'] == 'Za tezą'].sample(2)"
   ]
  },
  {
   "cell_type": "code",
   "execution_count": 8,
   "metadata": {},
   "outputs": [],
   "source": [
    "data['Wylosowana grupa'] = data['Preferowana grupa']"
   ]
  },
  {
   "cell_type": "code",
   "execution_count": 14,
   "metadata": {},
   "outputs": [],
   "source": [
    "data.iloc[3,3] = 'Przeciw tezie'\n",
    "data.iloc[9,3] = 'Przeciw tezie'"
   ]
  },
  {
   "cell_type": "code",
   "execution_count": 17,
   "metadata": {},
   "outputs": [],
   "source": [
    "data"
   ]
  }
 ],
 "metadata": {
  "kernelspec": {
   "display_name": "Python 3",
   "language": "python",
   "name": "python3"
  },
  "language_info": {
   "codemirror_mode": {
    "name": "ipython",
    "version": 3
   },
   "file_extension": ".py",
   "mimetype": "text/x-python",
   "name": "python",
   "nbconvert_exporter": "python",
   "pygments_lexer": "ipython3",
   "version": "3.6.4"
  }
 },
 "nbformat": 4,
 "nbformat_minor": 2
}
